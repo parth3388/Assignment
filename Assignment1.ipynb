{
 "cells": [
  {
   "cell_type": "code",
   "execution_count": 2,
   "id": "694fe6d4-59b8-4d91-980c-3d6b11d80d43",
   "metadata": {},
   "outputs": [
    {
     "name": "stdout",
     "output_type": "stream",
     "text": [
      "Second largest number is: 41\n"
     ]
    }
   ],
   "source": [
    "numbers = [12, 45, 2, 41, 31, 10]\n",
    "\n",
    "if len(numbers) < 2:\n",
    "    print(\"Need at least two numbers\")\n",
    "else:\n",
    "    largest = None\n",
    "    second_largest = None\n",
    "\n",
    "    for num in numbers:\n",
    "        if largest is None or num > largest:\n",
    "            second_largest = largest\n",
    "            largest = num\n",
    "        elif num != largest and (second_largest is None or num > second_largest):\n",
    "            second_largest = num\n",
    "\n",
    "    if second_largest is None:\n",
    "        print(\"No second largest number found\")\n",
    "    else:\n",
    "        print(\"Second largest number is:\", second_largest)\n"
   ]
  },
  {
   "cell_type": "code",
   "execution_count": 3,
   "id": "fe489509-a5f7-4b36-b2fb-201a9de7bc1b",
   "metadata": {},
   "outputs": [
    {
     "name": "stdout",
     "output_type": "stream",
     "text": [
      "Sorted list without duplicates: [1, 2, 4, 7, 9]\n"
     ]
    }
   ],
   "source": [
    "numbers = [4, 2, 7, 2, 4, 9, 1, 7]\n",
    "unique = []\n",
    "\n",
    "for num in numbers:\n",
    "    if num not in unique:\n",
    "        unique.append(num)\n",
    "\n",
    "sorted_unique = []\n",
    "\n",
    "while unique:\n",
    "    smallest = unique[0]\n",
    "    for num in unique:\n",
    "        if num < smallest:\n",
    "            smallest = num\n",
    "    sorted_unique.append(smallest)\n",
    "    unique.remove(smallest)\n",
    "\n",
    "print(\"Sorted list without duplicates:\", sorted_unique)\n"
   ]
  },
  {
   "cell_type": "code",
   "execution_count": 4,
   "id": "a4d6fe75-0224-4982-86ed-5e5087583c6d",
   "metadata": {},
   "outputs": [
    {
     "name": "stdout",
     "output_type": "stream",
     "text": [
      "Sum: 150\n",
      "Average: 30.0\n"
     ]
    }
   ],
   "source": [
    "numbers = [10, 20, 30, 40, 50]\n",
    "\n",
    "total = 0\n",
    "for num in numbers:\n",
    "    total += num\n",
    "\n",
    "average = total / len(numbers)\n",
    "\n",
    "print(\"Sum:\", total)\n",
    "print(\"Average:\", average)\n"
   ]
  },
  {
   "cell_type": "code",
   "execution_count": 5,
   "id": "f079cea1-1214-43c3-9a23-1f87a03ff0c5",
   "metadata": {},
   "outputs": [
    {
     "name": "stdin",
     "output_type": "stream",
     "text": [
      "Enter a number:  4\n"
     ]
    },
    {
     "name": "stdout",
     "output_type": "stream",
     "text": [
      "Not a prime number\n"
     ]
    }
   ],
   "source": [
    "num = int(input(\"Enter a number: \"))\n",
    "\n",
    "if num <= 1:\n",
    "    print(\"Not a prime number\")\n",
    "else:\n",
    "    is_prime = True\n",
    "    for i in range(2, num):\n",
    "        if num % i == 0:\n",
    "            is_prime = False\n",
    "            break\n",
    "    if is_prime:\n",
    "        print(\"Prime number\")\n",
    "    else:\n",
    "        print(\"Not a prime number\")\n"
   ]
  },
  {
   "cell_type": "code",
   "execution_count": 7,
   "id": "61cb977a-bba3-4b48-a13e-bfaffaf2eb27",
   "metadata": {},
   "outputs": [
    {
     "name": "stdin",
     "output_type": "stream",
     "text": [
      "Enter a string:  fhh6^\n"
     ]
    },
    {
     "name": "stdout",
     "output_type": "stream",
     "text": [
      "Vowels: 0\n",
      "Consonants: 3\n",
      "Digits: 1\n",
      "Special characters: 1\n"
     ]
    }
   ],
   "source": [
    "text = input(\"Enter a string: \")\n",
    "vowels = consonants = digits = special = 0\n",
    "\n",
    "for char in text:\n",
    "    if char.isalpha():\n",
    "        if char.lower() in 'aeiou':\n",
    "            vowels += 1\n",
    "        else:\n",
    "            consonants += 1\n",
    "    elif char.isdigit():\n",
    "        digits += 1\n",
    "    else:\n",
    "        special += 1\n",
    "\n",
    "print(\"Vowels:\", vowels)\n",
    "print(\"Consonants:\", consonants)\n",
    "print(\"Digits:\", digits)\n",
    "print(\"Special characters:\", special)\n"
   ]
  },
  {
   "cell_type": "code",
   "execution_count": 6,
   "id": "88b7376e-a3ac-43dc-ae1d-3bce38d5a504",
   "metadata": {},
   "outputs": [
    {
     "name": "stdout",
     "output_type": "stream",
     "text": [
      "2 4 6 8 10 12 14 16 18 20 22 24 26 28 30 32 34 36 38 40 42 44 46 48 50 52 54 56 58 60 62 64 66 68 70 72 74 76 78 80 82 84 86 88 90 92 94 96 98 100 "
     ]
    }
   ],
   "source": [
    "for i in range(1, 101):\n",
    "    if i % 2 == 0:\n",
    "        print(i, end=' ')\n"
   ]
  },
  {
   "cell_type": "code",
   "execution_count": 8,
   "id": "5275b164-5bec-4b90-9b36-9497c4471828",
   "metadata": {},
   "outputs": [
    {
     "name": "stdin",
     "output_type": "stream",
     "text": [
      "Enter a number:  3\n"
     ]
    },
    {
     "name": "stdout",
     "output_type": "stream",
     "text": [
      "3 x 1 = 3\n",
      "3 x 2 = 6\n",
      "3 x 3 = 9\n",
      "3 x 4 = 12\n",
      "3 x 5 = 15\n",
      "3 x 6 = 18\n",
      "3 x 7 = 21\n",
      "3 x 8 = 24\n",
      "3 x 9 = 27\n",
      "3 x 10 = 30\n"
     ]
    }
   ],
   "source": [
    "num = int(input(\"Enter a number: \"))\n",
    "for i in range(1, 11):\n",
    "    print(num, \"x\", i, \"=\", num * i)\n"
   ]
  },
  {
   "cell_type": "code",
   "execution_count": 9,
   "id": "f7540b5d-2f74-4608-8d70-03a71b045fa5",
   "metadata": {},
   "outputs": [
    {
     "name": "stdout",
     "output_type": "stream",
     "text": [
      "[15, 30, 45, 60, 75, 90]\n"
     ]
    }
   ],
   "source": [
    "result = []\n",
    "for i in range(1, 101):\n",
    "    if i % 3 == 0 and i % 5 == 0:\n",
    "        result.append(i)\n",
    "print(result)\n"
   ]
  },
  {
   "cell_type": "code",
   "execution_count": 10,
   "id": "5e0eabb2-d008-48e7-ab49-d098ac3d4819",
   "metadata": {},
   "outputs": [
    {
     "name": "stdin",
     "output_type": "stream",
     "text": [
      "Enter a number:  55\n"
     ]
    },
    {
     "name": "stdout",
     "output_type": "stream",
     "text": [
      "Reversed number: 55\n"
     ]
    }
   ],
   "source": [
    "num = int(input(\"Enter a number: \"))\n",
    "reverse = 0\n",
    "while num > 0:\n",
    "    digit = num % 10\n",
    "    reverse = reverse * 10 + digit\n",
    "    num //= 10\n",
    "print(\"Reversed number:\", reverse)\n"
   ]
  },
  {
   "cell_type": "code",
   "execution_count": 11,
   "id": "5470d4e0-a742-4ac2-a19e-b6e77893454e",
   "metadata": {},
   "outputs": [
    {
     "name": "stdin",
     "output_type": "stream",
     "text": [
      "Enter a string:  djjrjr\n"
     ]
    },
    {
     "name": "stdout",
     "output_type": "stream",
     "text": [
      "{'d': 1, 'j': 3, 'r': 2}\n"
     ]
    }
   ],
   "source": [
    "text = input(\"Enter a string: \")\n",
    "freq = {}\n",
    "\n",
    "for char in text:\n",
    "    if char in freq:\n",
    "        freq[char] += 1\n",
    "    else:\n",
    "        freq[char] = 1\n",
    "\n",
    "print(freq)\n"
   ]
  },
  {
   "cell_type": "code",
   "execution_count": 12,
   "id": "9c36e15a-9cb2-46b0-a8b5-50bf6bab072f",
   "metadata": {},
   "outputs": [
    {
     "name": "stdin",
     "output_type": "stream",
     "text": [
      "Enter how many prime numbers you want:  33\n"
     ]
    },
    {
     "name": "stdout",
     "output_type": "stream",
     "text": [
      "2 3 5 7 11 13 17 19 23 29 31 37 41 43 47 53 59 61 67 71 73 79 83 89 97 101 103 107 109 113 127 131 137 "
     ]
    }
   ],
   "source": [
    "n = int(input(\"Enter how many prime numbers you want: \"))\n",
    "count = 0\n",
    "num = 2\n",
    "\n",
    "while count < n:\n",
    "    is_prime = True\n",
    "    for i in range(2, int(num ** 0.5) + 1):\n",
    "        if num % i == 0:\n",
    "            is_prime = False\n",
    "            break\n",
    "    if is_prime:\n",
    "        print(num, end=' ')\n",
    "        count += 1\n",
    "    num += 1\n"
   ]
  },
  {
   "cell_type": "code",
   "execution_count": 13,
   "id": "ba93872b-b39e-4f0b-976b-de70156df304",
   "metadata": {},
   "outputs": [
    {
     "name": "stdin",
     "output_type": "stream",
     "text": [
      "Enter a number:  4554\n"
     ]
    },
    {
     "name": "stdout",
     "output_type": "stream",
     "text": [
      "Palindrome number\n"
     ]
    }
   ],
   "source": [
    "num = input(\"Enter a number: \")\n",
    "\n",
    "if num == num[::-1]:\n",
    "    print(\"Palindrome number\")\n",
    "else:\n",
    "    print(\"Not a palindrome\")\n"
   ]
  },
  {
   "cell_type": "code",
   "execution_count": 14,
   "id": "94261434-fe8e-424f-8e87-c7952231b8d5",
   "metadata": {},
   "outputs": [
    {
     "name": "stdin",
     "output_type": "stream",
     "text": [
      "Enter element to count:  3\n"
     ]
    },
    {
     "name": "stdout",
     "output_type": "stream",
     "text": [
      "Count: 1\n"
     ]
    }
   ],
   "source": [
    "numbers = [1, 2, 3, 2, 4, 2, 5]\n",
    "element = int(input(\"Enter element to count: \"))\n",
    "count = 0\n",
    "\n",
    "for num in numbers:\n",
    "    if num == element:\n",
    "        count += 1\n",
    "\n",
    "print(\"Count:\", count)\n"
   ]
  },
  {
   "cell_type": "code",
   "execution_count": 15,
   "id": "e6e5b410-3c88-4dfc-84c4-5fa715c8bd18",
   "metadata": {},
   "outputs": [
    {
     "name": "stdout",
     "output_type": "stream",
     "text": [
      "[4, 16, 36, 64, 100, 144, 196, 256, 324, 400, 484, 576, 676, 784, 900, 1024, 1156, 1296, 1444, 1600, 1764, 1936, 2116, 2304, 2500]\n"
     ]
    }
   ],
   "source": [
    "squares = []\n",
    "\n",
    "for i in range(1, 51):\n",
    "    if i % 2 == 0:\n",
    "        squares.append(i ** 2)\n",
    "\n",
    "print(squares)\n"
   ]
  },
  {
   "cell_type": "code",
   "execution_count": 16,
   "id": "aa31b6d1-ae40-4ab1-956a-eec405135416",
   "metadata": {},
   "outputs": [
    {
     "name": "stdout",
     "output_type": "stream",
     "text": [
      "Unique list: [1, 2, 3, 4, 5]\n"
     ]
    }
   ],
   "source": [
    "original = [1, 2, 2, 3, 4, 3, 5]\n",
    "unique = []\n",
    "for item in original:\n",
    "    if item not in unique:\n",
    "        unique.append(item)\n",
    "\n",
    "print(\"Unique list:\", unique)\n"
   ]
  },
  {
   "cell_type": "code",
   "execution_count": 17,
   "id": "19296020-c2c3-4e1e-96a4-cb28364b6de3",
   "metadata": {},
   "outputs": [
    {
     "name": "stdout",
     "output_type": "stream",
     "text": [
      "Even\n",
      "\n"
     ]
    }
   ],
   "source": [
    "def check_even_odd(num):\n",
    "    if num % 2 == 0:\n",
    "        return \"Even\"\n",
    "    else:\n",
    "        return \"Odd\"\n",
    "\n",
    "print(check_even_odd(8))\n",
    "print()\n"
   ]
  },
  {
   "cell_type": "code",
   "execution_count": 18,
   "id": "c57b055a-cb11-47b6-b9f2-cac7616f4f91",
   "metadata": {},
   "outputs": [
    {
     "name": "stdout",
     "output_type": "stream",
     "text": [
      "[1, 3, 6, 10]\n",
      "\n"
     ]
    }
   ],
   "source": [
    "def cumulative_sum(numbers):\n",
    "    result = []\n",
    "    total = 0\n",
    "    for num in numbers:\n",
    "        total += num\n",
    "        result.append(total)\n",
    "    return result\n",
    "\n",
    "print(cumulative_sum([1, 2, 3, 4]))\n",
    "print()\n"
   ]
  },
  {
   "cell_type": "code",
   "execution_count": 19,
   "id": "3d13d790-e152-4ae9-ba55-6b65f070e93a",
   "metadata": {},
   "outputs": [
    {
     "name": "stdout",
     "output_type": "stream",
     "text": [
      "120\n",
      "\n"
     ]
    }
   ],
   "source": [
    "def factorial(n):\n",
    "    if n == 0:\n",
    "        return 1\n",
    "    return n * factorial(n - 1)\n",
    "\n",
    "print(factorial(5))\n",
    "print()\n"
   ]
  },
  {
   "cell_type": "code",
   "execution_count": 20,
   "id": "1343e217-c06a-4bb9-95fc-4988fc8dae36",
   "metadata": {},
   "outputs": [
    {
     "name": "stdout",
     "output_type": "stream",
     "text": [
      "[0, 1, 1, 2, 3, 5, 8]\n",
      "\n"
     ]
    }
   ],
   "source": [
    "def fibonacci(n):\n",
    "    a, b = 0, 1\n",
    "    series = []\n",
    "    for _ in range(n):\n",
    "        series.append(a)\n",
    "        a, b = b, a + b\n",
    "    return series\n",
    "\n",
    "print(fibonacci(7))\n",
    "print()\n"
   ]
  },
  {
   "cell_type": "code",
   "execution_count": 21,
   "id": "256d8550-d525-4c46-8294-b7ac8d36c27d",
   "metadata": {},
   "outputs": [
    {
     "name": "stdout",
     "output_type": "stream",
     "text": [
      "True\n",
      "\n"
     ]
    }
   ],
   "source": [
    "def is_palindrome(s):\n",
    "    return s == s[::-1]\n",
    "\n",
    "print(is_palindrome(\"level\"))\n",
    "print()\n"
   ]
  },
  {
   "cell_type": "code",
   "execution_count": 22,
   "id": "69d90305-2482-43c9-92f1-7a56a9187656",
   "metadata": {},
   "outputs": [
    {
     "name": "stdout",
     "output_type": "stream",
     "text": [
      "(9, 2)\n",
      "\n"
     ]
    }
   ],
   "source": [
    "def find_max_min(lst):\n",
    "    return max(lst), min(lst)\n",
    "\n",
    "print(find_max_min([3, 7, 2, 9, 4]))\n",
    "print()\n"
   ]
  },
  {
   "cell_type": "code",
   "execution_count": 23,
   "id": "bd2fc67c-827d-4ddb-b1f0-a731d2fdae3a",
   "metadata": {},
   "outputs": [
    {
     "name": "stdout",
     "output_type": "stream",
     "text": [
      "True\n",
      "\n"
     ]
    }
   ],
   "source": [
    "def is_pangram(s):\n",
    "    s = s.lower()\n",
    "    for letter in 'abcdefghijklmnopqrstuvwxyz':\n",
    "        if letter not in s:\n",
    "            return False\n",
    "    return True\n",
    "\n",
    "print(is_pangram(\"The quick brown fox jumps over the lazy dog\"))\n",
    "print()\n"
   ]
  },
  {
   "cell_type": "code",
   "execution_count": 24,
   "id": "b53fa7c6-0b32-4f15-8c8f-695de50d9198",
   "metadata": {},
   "outputs": [
    {
     "name": "stdout",
     "output_type": "stream",
     "text": [
      "[11, 13, 17, 19, 23, 29]\n"
     ]
    }
   ],
   "source": [
    "def primes_in_range(start, end):\n",
    "    primes = []\n",
    "    for num in range(start, end + 1):\n",
    "        if num > 1:\n",
    "            is_prime = True\n",
    "            for i in range(2, int(num**0.5) + 1):\n",
    "                if num % i == 0:\n",
    "                    is_prime = False\n",
    "                    break\n",
    "            if is_prime:\n",
    "                primes.append(num)\n",
    "    return primes\n",
    "\n",
    "print(primes_in_range(10, 30))\n"
   ]
  },
  {
   "cell_type": "code",
   "execution_count": 25,
   "id": "d774aba7-9591-4015-b011-a2d39bad901b",
   "metadata": {},
   "outputs": [
    {
     "name": "stdout",
     "output_type": "stream",
     "text": [
      "(2, 8)\n",
      "\n"
     ]
    }
   ],
   "source": [
    "def count_case(text):\n",
    "    upper = lower = 0\n",
    "    for char in text:\n",
    "        if char.isupper():\n",
    "            upper += 1\n",
    "        elif char.islower():\n",
    "            lower += 1\n",
    "    return upper, lower\n",
    "\n",
    "print(count_case(\"Hello World\"))\n",
    "print()\n"
   ]
  },
  {
   "cell_type": "code",
   "execution_count": 26,
   "id": "5e9679f8-beba-4f83-b3b7-a525c293b925",
   "metadata": {},
   "outputs": [
    {
     "name": "stdout",
     "output_type": "stream",
     "text": [
      "15\n",
      "\n"
     ]
    }
   ],
   "source": [
    "def sum_of_digits(num):\n",
    "    total = 0\n",
    "    while num > 0:\n",
    "        total += num % 10\n",
    "        num //= 10\n",
    "    return total\n",
    "\n",
    "print(sum_of_digits(12345))\n",
    "print()\n"
   ]
  },
  {
   "cell_type": "code",
   "execution_count": 27,
   "id": "52ef5476-b865-4d7a-ab6c-b05e1f5eddd4",
   "metadata": {},
   "outputs": [
    {
     "name": "stdout",
     "output_type": "stream",
     "text": [
      "5\n",
      "\n"
     ]
    }
   ],
   "source": [
    "def count_words(sentence):\n",
    "    words = sentence.split()\n",
    "    return len(words)\n",
    "\n",
    "print(count_words(\"This is a sample sentence\"))\n",
    "print()\n"
   ]
  },
  {
   "cell_type": "code",
   "execution_count": 28,
   "id": "df3b4b77-ae76-4ee7-96b0-dbffeef2a2d9",
   "metadata": {},
   "outputs": [
    {
     "name": "stdout",
     "output_type": "stream",
     "text": [
      "Hello world Its a beautiful day\n",
      "\n"
     ]
    }
   ],
   "source": [
    "def remove_punctuation(text):\n",
    "    result = ''\n",
    "    for char in text:\n",
    "        if char.isalnum() or char.isspace():\n",
    "            result += char\n",
    "    return result\n",
    "\n",
    "print(remove_punctuation(\"Hello, world! It's a beautiful day.\"))\n",
    "print()\n"
   ]
  },
  {
   "cell_type": "code",
   "execution_count": 29,
   "id": "c1c9875d-99b6-4cea-b020-6e17652b2e64",
   "metadata": {},
   "outputs": [
    {
     "name": "stdout",
     "output_type": "stream",
     "text": [
      "6\n",
      "\n"
     ]
    }
   ],
   "source": [
    "def find_gcd(a, b):\n",
    "    while b != 0:\n",
    "        a, b = b, a % b\n",
    "    return a\n",
    "\n",
    "print(find_gcd(48, 18))\n",
    "print()\n"
   ]
  },
  {
   "cell_type": "code",
   "execution_count": 30,
   "id": "a80f7b3e-14b4-45cc-a938-a9f4f9088144",
   "metadata": {},
   "outputs": [
    {
     "name": "stdout",
     "output_type": "stream",
     "text": [
      "[2, 4]\n",
      "\n"
     ]
    }
   ],
   "source": [
    "def find_duplicates(lst):\n",
    "    seen = []\n",
    "    duplicates = []\n",
    "    for item in lst:\n",
    "        if item in seen and item not in duplicates:\n",
    "            duplicates.append(item)\n",
    "        elif item not in seen:\n",
    "            seen.append(item)\n",
    "    return duplicates\n",
    "\n",
    "print(find_duplicates([1, 2, 2, 3, 4, 4, 5]))\n",
    "print()\n"
   ]
  },
  {
   "cell_type": "code",
   "execution_count": 31,
   "id": "8a339df7-2ee4-4166-bbf7-50811b30bb80",
   "metadata": {},
   "outputs": [
    {
     "name": "stdout",
     "output_type": "stream",
     "text": [
      "25\n"
     ]
    }
   ],
   "source": [
    "def largest_of_three(a, b, c):\n",
    "    if a >= b and a >= c:\n",
    "        return a\n",
    "    elif b >= a and b >= c:\n",
    "        return b\n",
    "    else:\n",
    "        return c\n",
    "\n",
    "print(largest_of_three(10, 25, 15))\n"
   ]
  },
  {
   "cell_type": "code",
   "execution_count": 32,
   "id": "2cc3951e-1646-4ee7-9274-c34fae8d6ed4",
   "metadata": {},
   "outputs": [
    {
     "name": "stdin",
     "output_type": "stream",
     "text": [
      " tthe kdkdk\n"
     ]
    },
    {
     "name": "stdout",
     "output_type": "stream",
     "text": [
      "['kdkdk', 'tthe']\n",
      "\n"
     ]
    }
   ],
   "source": [
    "sentence = input()\n",
    "words = sentence.split()\n",
    "words.sort()\n",
    "print(words)\n",
    "\n"
   ]
  },
  {
   "cell_type": "code",
   "execution_count": null,
   "id": "e6b6952a-e0d9-4711-9275-c80474188b74",
   "metadata": {},
   "outputs": [],
   "source": [
    "dict1 = eval(input())\n",
    "dict2 = eval(input())\n",
    "dict1.update(dict2)\n",
    "print(dict1)\n",
    "\n"
   ]
  },
  {
   "cell_type": "code",
   "execution_count": null,
   "id": "434cb154-e5c1-4a07-b9f2-dc85659d9fe6",
   "metadata": {},
   "outputs": [],
   "source": [
    "sentence = input()\n",
    "words = sentence.split()\n",
    "for word in words:\n",
    "    count = 0\n",
    "    for char in word:\n",
    "        if char.lower() in 'aeiou':\n",
    "            count += 1\n",
    "    print(f\"{word}: {count}\")\n",
    "\n"
   ]
  },
  {
   "cell_type": "code",
   "execution_count": null,
   "id": "4747b750-ca61-45b6-841c-e703a4fdb047",
   "metadata": {},
   "outputs": [],
   "source": [
    "tup = eval(input())\n",
    "lst = list(tup)\n",
    "print(lst)\n",
    "\n"
   ]
  },
  {
   "cell_type": "code",
   "execution_count": null,
   "id": "1369ad7c-b2e9-47dc-91b9-18057c347d90",
   "metadata": {},
   "outputs": [],
   "source": [
    "def remove_whitespace(text):\n",
    "    return text.replace(\" \", \"\")\n",
    "\n",
    "text = input()\n",
    "print(remove_whitespace(text))\n",
    "\n"
   ]
  },
  {
   "cell_type": "code",
   "execution_count": null,
   "id": "102fac3f-cfd8-4196-8288-c106939b96c4",
   "metadata": {},
   "outputs": [],
   "source": [
    "keys = input().split()\n",
    "values = input().split()\n",
    "merged = dict(zip(keys, values))\n",
    "print(merged)\n",
    "print()\n"
   ]
  },
  {
   "cell_type": "code",
   "execution_count": null,
   "id": "1b9853ea-6a44-4a93-9acd-126568737f9a",
   "metadata": {},
   "outputs": [],
   "source": [
    "data = eval(input())\n",
    "max_key = max(data, key=data.get)\n",
    "print(max_key)\n",
    "print()\n"
   ]
  },
  {
   "cell_type": "code",
   "execution_count": null,
   "id": "aabfffcf-1760-4445-9e12-7a65cba94bfd",
   "metadata": {},
   "outputs": [],
   "source": [
    "text = input()\n",
    "words = text.split()\n",
    "freq = {}\n",
    "for word in words:\n",
    "    if word in freq:\n",
    "        freq[word] += 1\n",
    "    else:\n",
    "        freq[word] = 1\n",
    "print(freq)\n",
    "print()\n"
   ]
  },
  {
   "cell_type": "code",
   "execution_count": null,
   "id": "0a78ea54-dc6e-4a89-865e-70250ad1922a",
   "metadata": {},
   "outputs": [],
   "source": [
    "data = eval(input())\n",
    "key = input()\n",
    "print(key in data)\n",
    "print()\n"
   ]
  },
  {
   "cell_type": "code",
   "execution_count": null,
   "id": "857b4602-15e3-4b96-8e11-b69213f38124",
   "metadata": {},
   "outputs": [],
   "source": [
    "text = input()\n",
    "vowels = 'aeiouAEIOU'\n",
    "new_text = ''\n",
    "for char in text:\n",
    "    if char in vowels:\n",
    "        new_text += '*'\n",
    "    else:\n",
    "        new_text += char\n",
    "print(new_text)\n"
   ]
  },
  {
   "cell_type": "code",
   "execution_count": null,
   "id": "4797d975-86fe-41a7-875a-cd8e62f13422",
   "metadata": {},
   "outputs": [],
   "source": [
    "file_name = input()\n",
    "with open(file_name, 'r') as f:\n",
    "    content = f.read()\n",
    "    print(content)\n",
    "print()\n"
   ]
  },
  {
   "cell_type": "code",
   "execution_count": null,
   "id": "338a9c13-adea-4067-bc93-268b98913689",
   "metadata": {},
   "outputs": [],
   "source": [
    "file_name = input()\n",
    "with open(file_name, 'r') as f:\n",
    "    content = f.read()\n",
    "    words = content.split()\n",
    "    print(len(words))\n",
    "print()\n"
   ]
  },
  {
   "cell_type": "code",
   "execution_count": null,
   "id": "409f3f86-460a-450c-8d8f-5d8bb06c6466",
   "metadata": {},
   "outputs": [],
   "source": [
    "source = input()\n",
    "destination = input()\n",
    "with open(source, 'r') as f1:\n",
    "    data = f1.read()\n",
    "with open(destination, 'w') as f2:\n",
    "    f2.write(data)\n",
    "print(\"Copied\")\n",
    "print()\n"
   ]
  },
  {
   "cell_type": "code",
   "execution_count": null,
   "id": "9cdb52d9-ff64-42e6-8247-9f65af117eea",
   "metadata": {},
   "outputs": [],
   "source": [
    "file_name = input()\n",
    "with open(file_name, 'r') as f:\n",
    "    for line in f:\n",
    "        if len(line) > 50:\n",
    "            print(line.strip())\n",
    "print()\n"
   ]
  },
  {
   "cell_type": "code",
   "execution_count": null,
   "id": "9dfc720d-8a69-49d6-baf9-5f72411af4ed",
   "metadata": {},
   "outputs": [],
   "source": [
    "file_name = input()\n",
    "lines = []\n",
    "n = int(input())\n",
    "for _ in range(n):\n",
    "    lines.append(input())\n",
    "\n",
    "with open(file_name, 'w') as f:\n",
    "    for line in lines:\n",
    "        f.write(line + '\\n')\n",
    "print(\"Written\")\n"
   ]
  },
  {
   "cell_type": "code",
   "execution_count": null,
   "id": "702ca23b-7e0a-44f7-9fb3-7019b5bae8d2",
   "metadata": {},
   "outputs": [],
   "source": [
    "try:\n",
    "    a = int(input())\n",
    "    b = int(input())\n",
    "    result = a / b\n",
    "    print(result)\n",
    "except ZeroDivisionError:\n",
    "    print(\"Cannot divide by zero\")\n",
    "print()\n"
   ]
  },
  {
   "cell_type": "code",
   "execution_count": null,
   "id": "8eb5663e-dcbd-4aea-9682-8932bf4f8102",
   "metadata": {},
   "outputs": [],
   "source": [
    "try:\n",
    "    num = int(input())\n",
    "    print(\"Valid number:\", num)\n",
    "except ValueError:\n",
    "    print(\"Invalid input. Please enter a number.\")\n",
    "print()\n"
   ]
  },
  {
   "cell_type": "code",
   "execution_count": null,
   "id": "c7b0c64d-da75-43c9-a787-144444e3789e",
   "metadata": {},
   "outputs": [],
   "source": [
    "try:\n",
    "    file_name = input()\n",
    "    with open(file_name, 'r') as f:\n",
    "        print(f.read())\n",
    "except FileNotFoundError:\n",
    "    print(\"File not found\")\n",
    "print()\n"
   ]
  },
  {
   "cell_type": "code",
   "execution_count": null,
   "id": "fb127a25-acf5-4a6f-8317-c8ca87ee8df4",
   "metadata": {},
   "outputs": [],
   "source": [
    "numbers = [1, 2, 3, 4, 5]\n",
    "try:\n",
    "    index = int(input())\n",
    "    print(numbers[index])\n",
    "except IndexError:\n",
    "    print(\"Index out of range\")\n",
    "print()\n"
   ]
  },
  {
   "cell_type": "code",
   "execution_count": null,
   "id": "b9a4af20-fe22-413a-8cc6-d47eb42a5d2e",
   "metadata": {},
   "outputs": [],
   "source": [
    "try:\n",
    "    x = int(input())\n",
    "    y = int(input())\n",
    "    print(x / y)\n",
    "except ZeroDivisionError:\n",
    "    print(\"Cannot divide by zero\")\n",
    "finally:\n",
    "    print(\"This is always executed\")\n"
   ]
  }
 ],
 "metadata": {
  "kernelspec": {
   "display_name": "Python [conda env:base] *",
   "language": "python",
   "name": "conda-base-py"
  },
  "language_info": {
   "codemirror_mode": {
    "name": "ipython",
    "version": 3
   },
   "file_extension": ".py",
   "mimetype": "text/x-python",
   "name": "python",
   "nbconvert_exporter": "python",
   "pygments_lexer": "ipython3",
   "version": "3.12.7"
  }
 },
 "nbformat": 4,
 "nbformat_minor": 5
}
