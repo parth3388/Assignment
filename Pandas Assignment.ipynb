{
 "cells": [
  {
   "cell_type": "code",
   "execution_count": 6,
   "id": "91d95277-56fb-4dae-8233-bd02dd4c743f",
   "metadata": {},
   "outputs": [],
   "source": [
    "import pandas as pd\n"
   ]
  },
  {
   "cell_type": "code",
   "execution_count": null,
   "id": "c2c8f05b-1cec-492e-a01d-73ebe3e21d68",
   "metadata": {},
   "outputs": [],
   "source": [
    "# Task1"
   ]
  },
  {
   "cell_type": "code",
   "execution_count": 43,
   "id": "e4470911-459c-468c-a7ea-75e2231caab6",
   "metadata": {},
   "outputs": [],
   "source": [
    "df=pd.read_csv(\"netflix_titles.csv\")"
   ]
  },
  {
   "cell_type": "code",
   "execution_count": 7,
   "id": "f7ee634a-9491-40eb-9beb-a1eb429c212d",
   "metadata": {},
   "outputs": [
    {
     "name": "stdout",
     "output_type": "stream",
     "text": [
      "  show_id     type                  title         director  \\\n",
      "0      s1    Movie   Dick Johnson Is Dead  Kirsten Johnson   \n",
      "1      s2  TV Show          Blood & Water              NaN   \n",
      "2      s3  TV Show              Ganglands  Julien Leclercq   \n",
      "3      s4  TV Show  Jailbirds New Orleans              NaN   \n",
      "4      s5  TV Show           Kota Factory              NaN   \n",
      "\n",
      "                                                cast        country  \\\n",
      "0                                                NaN  United States   \n",
      "1  Ama Qamata, Khosi Ngema, Gail Mabalane, Thaban...   South Africa   \n",
      "2  Sami Bouajila, Tracy Gotoas, Samuel Jouy, Nabi...            NaN   \n",
      "3                                                NaN            NaN   \n",
      "4  Mayur More, Jitendra Kumar, Ranjan Raj, Alam K...          India   \n",
      "\n",
      "           date_added  release_year rating   duration  \\\n",
      "0  September 25, 2021          2020  PG-13     90 min   \n",
      "1  September 24, 2021          2021  TV-MA  2 Seasons   \n",
      "2  September 24, 2021          2021  TV-MA   1 Season   \n",
      "3  September 24, 2021          2021  TV-MA   1 Season   \n",
      "4  September 24, 2021          2021  TV-MA  2 Seasons   \n",
      "\n",
      "                                           listed_in  \\\n",
      "0                                      Documentaries   \n",
      "1    International TV Shows, TV Dramas, TV Mysteries   \n",
      "2  Crime TV Shows, International TV Shows, TV Act...   \n",
      "3                             Docuseries, Reality TV   \n",
      "4  International TV Shows, Romantic TV Shows, TV ...   \n",
      "\n",
      "                                         description  \n",
      "0  As her father nears the end of his life, filmm...  \n",
      "1  After crossing paths at a party, a Cape Town t...  \n",
      "2  To protect his family from a powerful drug lor...  \n",
      "3  Feuds, flirtations and toilet talk go down amo...  \n",
      "4  In a city of coaching centers known to train I...  \n",
      "     show_id     type        title         director  \\\n",
      "8802   s8803    Movie       Zodiac    David Fincher   \n",
      "8803   s8804  TV Show  Zombie Dumb              NaN   \n",
      "8804   s8805    Movie   Zombieland  Ruben Fleischer   \n",
      "8805   s8806    Movie         Zoom     Peter Hewitt   \n",
      "8806   s8807    Movie       Zubaan      Mozez Singh   \n",
      "\n",
      "                                                   cast        country  \\\n",
      "8802  Mark Ruffalo, Jake Gyllenhaal, Robert Downey J...  United States   \n",
      "8803                                                NaN            NaN   \n",
      "8804  Jesse Eisenberg, Woody Harrelson, Emma Stone, ...  United States   \n",
      "8805  Tim Allen, Courteney Cox, Chevy Chase, Kate Ma...  United States   \n",
      "8806  Vicky Kaushal, Sarah-Jane Dias, Raaghav Chanan...          India   \n",
      "\n",
      "             date_added  release_year rating   duration  \\\n",
      "8802  November 20, 2019          2007      R    158 min   \n",
      "8803       July 1, 2019          2018  TV-Y7  2 Seasons   \n",
      "8804   November 1, 2019          2009      R     88 min   \n",
      "8805   January 11, 2020          2006     PG     88 min   \n",
      "8806      March 2, 2019          2015  TV-14    111 min   \n",
      "\n",
      "                                           listed_in  \\\n",
      "8802                  Cult Movies, Dramas, Thrillers   \n",
      "8803          Kids' TV, Korean TV Shows, TV Comedies   \n",
      "8804                         Comedies, Horror Movies   \n",
      "8805              Children & Family Movies, Comedies   \n",
      "8806  Dramas, International Movies, Music & Musicals   \n",
      "\n",
      "                                            description  \n",
      "8802  A political cartoonist, a crime reporter and a...  \n",
      "8803  While living alone in a spooky town, a young g...  \n",
      "8804  Looking to survive in a world taken over by zo...  \n",
      "8805  Dragged from civilian life, a former superhero...  \n",
      "8806  A scrappy but poor boy worms his way into a ty...  \n"
     ]
    }
   ],
   "source": [
    "print(df.head())\n",
    "print(df.tail())\n"
   ]
  },
  {
   "cell_type": "code",
   "execution_count": 8,
   "id": "6a7c277b-52f7-455b-9cc6-b778aae88eae",
   "metadata": {},
   "outputs": [
    {
     "name": "stdout",
     "output_type": "stream",
     "text": [
      "Number of rows= 8807\n",
      "Number of columns= 12\n"
     ]
    }
   ],
   "source": [
    "a=df.shape[0]\n",
    "b=df.shape[1]\n",
    "print(\"Number of rows=\",a)\n",
    "print(\"Number of columns=\",b)\n"
   ]
  },
  {
   "cell_type": "code",
   "execution_count": 9,
   "id": "3a9e732f-b8f1-4725-89f8-5c2645c52a1c",
   "metadata": {},
   "outputs": [
    {
     "name": "stdout",
     "output_type": "stream",
     "text": [
      "748\n"
     ]
    }
   ],
   "source": [
    "print(df['country'].nunique())\n"
   ]
  },
  {
   "cell_type": "code",
   "execution_count": 10,
   "id": "21d52717-7833-4614-a9d2-a8b8bf8b814a",
   "metadata": {},
   "outputs": [
    {
     "name": "stdout",
     "output_type": "stream",
     "text": [
      "     show_id     type                  title         director  \\\n",
      "1         s2  TV Show          Blood & Water              NaN   \n",
      "2         s3  TV Show              Ganglands  Julien Leclercq   \n",
      "3         s4  TV Show  Jailbirds New Orleans              NaN   \n",
      "4         s5  TV Show           Kota Factory              NaN   \n",
      "5         s6  TV Show          Midnight Mass    Mike Flanagan   \n",
      "...      ...      ...                    ...              ...   \n",
      "8795   s8796  TV Show        Yu-Gi-Oh! Arc-V              NaN   \n",
      "8796   s8797  TV Show             Yunus Emre              NaN   \n",
      "8797   s8798  TV Show              Zak Storm              NaN   \n",
      "8800   s8801  TV Show     Zindagi Gulzar Hai              NaN   \n",
      "8803   s8804  TV Show            Zombie Dumb              NaN   \n",
      "\n",
      "                                                   cast  \\\n",
      "1     Ama Qamata, Khosi Ngema, Gail Mabalane, Thaban...   \n",
      "2     Sami Bouajila, Tracy Gotoas, Samuel Jouy, Nabi...   \n",
      "3                                                   NaN   \n",
      "4     Mayur More, Jitendra Kumar, Ranjan Raj, Alam K...   \n",
      "5     Kate Siegel, Zach Gilford, Hamish Linklater, H...   \n",
      "...                                                 ...   \n",
      "8795  Mike Liscio, Emily Bauer, Billy Bob Thompson, ...   \n",
      "8796  Gökhan Atalay, Payidar Tüfekçioglu, Baran Akbu...   \n",
      "8797  Michael Johnston, Jessica Gee-George, Christin...   \n",
      "8800  Sanam Saeed, Fawad Khan, Ayesha Omer, Mehreen ...   \n",
      "8803                                                NaN   \n",
      "\n",
      "                                            country          date_added  \\\n",
      "1                                      South Africa  September 24, 2021   \n",
      "2                                               NaN  September 24, 2021   \n",
      "3                                               NaN  September 24, 2021   \n",
      "4                                             India  September 24, 2021   \n",
      "5                                               NaN  September 24, 2021   \n",
      "...                                             ...                 ...   \n",
      "8795                                  Japan, Canada         May 1, 2018   \n",
      "8796                                         Turkey    January 17, 2017   \n",
      "8797  United States, France, South Korea, Indonesia  September 13, 2018   \n",
      "8800                                       Pakistan   December 15, 2016   \n",
      "8803                                            NaN        July 1, 2019   \n",
      "\n",
      "      release_year rating   duration  \\\n",
      "1             2021  TV-MA  2 Seasons   \n",
      "2             2021  TV-MA   1 Season   \n",
      "3             2021  TV-MA   1 Season   \n",
      "4             2021  TV-MA  2 Seasons   \n",
      "5             2021  TV-MA   1 Season   \n",
      "...            ...    ...        ...   \n",
      "8795          2015  TV-Y7  2 Seasons   \n",
      "8796          2016  TV-PG  2 Seasons   \n",
      "8797          2016  TV-Y7  3 Seasons   \n",
      "8800          2012  TV-PG   1 Season   \n",
      "8803          2018  TV-Y7  2 Seasons   \n",
      "\n",
      "                                              listed_in  \\\n",
      "1       International TV Shows, TV Dramas, TV Mysteries   \n",
      "2     Crime TV Shows, International TV Shows, TV Act...   \n",
      "3                                Docuseries, Reality TV   \n",
      "4     International TV Shows, Romantic TV Shows, TV ...   \n",
      "5                    TV Dramas, TV Horror, TV Mysteries   \n",
      "...                                                 ...   \n",
      "8795                             Anime Series, Kids' TV   \n",
      "8796                  International TV Shows, TV Dramas   \n",
      "8797                                           Kids' TV   \n",
      "8800  International TV Shows, Romantic TV Shows, TV ...   \n",
      "8803             Kids' TV, Korean TV Shows, TV Comedies   \n",
      "\n",
      "                                            description  \n",
      "1     After crossing paths at a party, a Cape Town t...  \n",
      "2     To protect his family from a powerful drug lor...  \n",
      "3     Feuds, flirtations and toilet talk go down amo...  \n",
      "4     In a city of coaching centers known to train I...  \n",
      "5     The arrival of a charismatic young priest brin...  \n",
      "...                                                 ...  \n",
      "8795  Now that he's discovered the Pendulum Summonin...  \n",
      "8796  During the Mongol invasions, Yunus Emre leaves...  \n",
      "8797  Teen surfer Zak Storm is mysteriously transpor...  \n",
      "8800  Strong-willed, middle-class Kashaf and carefre...  \n",
      "8803  While living alone in a spooky town, a young g...  \n",
      "\n",
      "[2676 rows x 12 columns]\n"
     ]
    }
   ],
   "source": [
    "tv_shows = df[df['type'] == 'TV Show']\n",
    "print(tv_shows)\n"
   ]
  },
  {
   "cell_type": "code",
   "execution_count": 11,
   "id": "07902c31-5841-441b-b28d-49864f4866a3",
   "metadata": {},
   "outputs": [
    {
     "name": "stdout",
     "output_type": "stream",
     "text": [
      "                   title date_added  year_added  month_added\n",
      "0   Dick Johnson Is Dead 2021-09-25      2021.0          9.0\n",
      "1          Blood & Water 2021-09-24      2021.0          9.0\n",
      "2              Ganglands 2021-09-24      2021.0          9.0\n",
      "3  Jailbirds New Orleans 2021-09-24      2021.0          9.0\n",
      "4           Kota Factory 2021-09-24      2021.0          9.0\n"
     ]
    }
   ],
   "source": [
    "df['date_added'] = pd.to_datetime(df['date_added'], errors='coerce')\n",
    "df['year_added'] = df['date_added'].dt.year\n",
    "df['month_added'] = df['date_added'].dt.month\n",
    "print(df[['title', 'date_added', 'year_added', 'month_added']].head())\n"
   ]
  },
  {
   "cell_type": "code",
   "execution_count": 12,
   "id": "3e5fd88b-a5c8-4c4f-b815-5c4f45e73d95",
   "metadata": {},
   "outputs": [
    {
     "name": "stdout",
     "output_type": "stream",
     "text": [
      "633\n"
     ]
    }
   ],
   "source": [
    "movies_2019 = df[(df['type'] == 'Movie') & (df['release_year'] == 2019)]\n",
    "print(len(movies_2019))\n"
   ]
  },
  {
   "cell_type": "code",
   "execution_count": 13,
   "id": "b3bc51ef-87c8-4e80-a3d1-572351c363a5",
   "metadata": {},
   "outputs": [
    {
     "name": "stdout",
     "output_type": "stream",
     "text": [
      "rating\n",
      "TV-MA       3207\n",
      "TV-14       2160\n",
      "TV-PG        863\n",
      "R            799\n",
      "PG-13        490\n",
      "TV-Y7        334\n",
      "TV-Y         307\n",
      "PG           287\n",
      "TV-G         220\n",
      "NR            80\n",
      "G             41\n",
      "TV-Y7-FV       6\n",
      "NC-17          3\n",
      "UR             3\n",
      "74 min         1\n",
      "84 min         1\n",
      "66 min         1\n",
      "Name: count, dtype: int64\n"
     ]
    }
   ],
   "source": [
    "print(df['rating'].value_counts())\n"
   ]
  },
  {
   "cell_type": "code",
   "execution_count": null,
   "id": "60a26d21-b158-4a7d-94d1-22bad9f1d6ec",
   "metadata": {},
   "outputs": [],
   "source": [
    "#Task2"
   ]
  },
  {
   "cell_type": "code",
   "execution_count": 14,
   "id": "485d0205-73c8-49b4-a2a1-3c50537e9028",
   "metadata": {},
   "outputs": [
    {
     "name": "stdout",
     "output_type": "stream",
     "text": [
      "Top 10 Rows:\n",
      "    Rank CCA3    Country/Territory           Capital      Continent  \\\n",
      "0    36  AFG          Afghanistan             Kabul           Asia   \n",
      "1   138  ALB              Albania            Tirana         Europe   \n",
      "2    34  DZA              Algeria           Algiers         Africa   \n",
      "3   213  ASM       American Samoa         Pago Pago        Oceania   \n",
      "4   203  AND              Andorra  Andorra la Vella         Europe   \n",
      "5    42  AGO               Angola            Luanda         Africa   \n",
      "6   224  AIA             Anguilla        The Valley  North America   \n",
      "7   201  ATG  Antigua and Barbuda      Saint John’s  North America   \n",
      "8    33  ARG            Argentina      Buenos Aires  South America   \n",
      "9   140  ARM              Armenia           Yerevan           Asia   \n",
      "\n",
      "   2022 Population  2020 Population  2015 Population  2010 Population  \\\n",
      "0         41128771         38972230         33753499         28189672   \n",
      "1          2842321          2866849          2882481          2913399   \n",
      "2         44903225         43451666         39543154         35856344   \n",
      "3            44273            46189            51368            54849   \n",
      "4            79824            77700            71746            71519   \n",
      "5         35588987         33428485         28127721         23364185   \n",
      "6            15857            15585            14525            13172   \n",
      "7            93763            92664            89941            85695   \n",
      "8         45510318         45036032         43257065         41100123   \n",
      "9          2780469          2805608          2878595          2946293   \n",
      "\n",
      "   2000 Population  1990 Population  1980 Population  1970 Population  \\\n",
      "0         19542982         10694796         12486631         10752971   \n",
      "1          3182021          3295066          2941651          2324731   \n",
      "2         30774621         25518074         18739378         13795915   \n",
      "3            58230            47818            32886            27075   \n",
      "4            66097            53569            35611            19860   \n",
      "5         16394062         11828638          8330047          6029700   \n",
      "6            11047             8316             6560             6283   \n",
      "7            75055            63328            64888            64516   \n",
      "8         37070774         32637657         28024803         23842803   \n",
      "9          3168523          3556539          3135123          2534377   \n",
      "\n",
      "   Area (km²)  Density (per km²)  Growth Rate  World Population Percentage  \n",
      "0      652230            63.0587       1.0257                         0.52  \n",
      "1       28748            98.8702       0.9957                         0.04  \n",
      "2     2381741            18.8531       1.0164                         0.56  \n",
      "3         199           222.4774       0.9831                         0.00  \n",
      "4         468           170.5641       1.0100                         0.00  \n",
      "5     1246700            28.5466       1.0315                         0.45  \n",
      "6          91           174.2527       1.0066                         0.00  \n",
      "7         442           212.1335       1.0058                         0.00  \n",
      "8     2780400            16.3683       1.0052                         0.57  \n",
      "9       29743            93.4831       0.9962                         0.03   \n",
      "\n"
     ]
    }
   ],
   "source": [
    "df = pd.read_csv(\"world_population.csv\")\n",
    "print(\"Top 10 Rows:\\n\", df.head(10), \"\\n\")"
   ]
  },
  {
   "cell_type": "code",
   "execution_count": 15,
   "id": "d0910c45-c4ed-4767-bbd9-20e580df31d5",
   "metadata": {},
   "outputs": [
    {
     "name": "stdout",
     "output_type": "stream",
     "text": [
      "Null Values:\n",
      " Rank                           0\n",
      "CCA3                           0\n",
      "Country/Territory              0\n",
      "Capital                        0\n",
      "Continent                      0\n",
      "2022 Population                0\n",
      "2020 Population                0\n",
      "2015 Population                0\n",
      "2010 Population                0\n",
      "2000 Population                0\n",
      "1990 Population                0\n",
      "1980 Population                0\n",
      "1970 Population                0\n",
      "Area (km²)                     0\n",
      "Density (per km²)              0\n",
      "Growth Rate                    0\n",
      "World Population Percentage    0\n",
      "dtype: int64 \n",
      "\n"
     ]
    }
   ],
   "source": [
    "print(\"Null Values:\\n\", df.isnull().sum(), \"\\n\")\n",
    "df = df.dropna()"
   ]
  },
  {
   "cell_type": "code",
   "execution_count": 16,
   "id": "54f6d699-3a3c-41ba-be11-2c511895199b",
   "metadata": {},
   "outputs": [
    {
     "name": "stdout",
     "output_type": "stream",
     "text": [
      "Top 5 Most Populous Countries:\n",
      "     Country/Territory  2020 Population\n",
      "41              China       1424929781\n",
      "92              India       1396387127\n",
      "221     United States        335942003\n",
      "93          Indonesia        271857970\n",
      "156          Pakistan        227196741 \n",
      "\n"
     ]
    }
   ],
   "source": [
    "top_5_pop = df.sort_values(by='2020 Population', ascending=False).head(5)\n",
    "print(\"Top 5 Most Populous Countries:\\n\", top_5_pop[['Country/Territory', '2020 Population']], \"\\n\")"
   ]
  },
  {
   "cell_type": "code",
   "execution_count": 18,
   "id": "1387ca33-a884-426f-a859-73826e04d367",
   "metadata": {},
   "outputs": [
    {
     "name": "stdout",
     "output_type": "stream",
     "text": [
      "Countries with Population > 100M and Area < 500,000 km²:\n",
      "     Country/Territory  2020 Population  Area (km²)\n",
      "16         Bangladesh        167420951      147570\n",
      "102             Japan        125244761      377930\n",
      "163       Philippines        112190977      342353 \n",
      "\n"
     ]
    }
   ],
   "source": [
    "filtered = df[(df['2020 Population'] > 100_000_000) & (df['Area (km²)'] < 500_000)]\n",
    "print(\"Countries with Population > 100M and Area < 500,000 km²:\\n\", filtered[['Country/Territory', '2020 Population', 'Area (km²)']], \"\\n\")\n"
   ]
  },
  {
   "cell_type": "code",
   "execution_count": 19,
   "id": "b4a5aac6-423b-45f8-8a58-e590e6a0b371",
   "metadata": {},
   "outputs": [
    {
     "name": "stdout",
     "output_type": "stream",
     "text": [
      "Top 5 Countries by Population Density:\n",
      "     Country/Territory  Density (per km²)\n",
      "119             Macau         23172.2667\n",
      "134            Monaco         18234.5000\n",
      "187         Singapore          8416.4634\n",
      "89          Hong Kong          6783.3922\n",
      "76          Gibraltar          5441.5000\n"
     ]
    }
   ],
   "source": [
    "sorted_density = df.sort_values(by='Density (per km²)', ascending=False)\n",
    "print(\"Top 5 Countries by Population Density:\\n\", sorted_density[['Country/Territory', 'Density (per km²)']].head(5))"
   ]
  },
  {
   "cell_type": "code",
   "execution_count": null,
   "id": "1f17e8a7-6cf5-4e2b-8107-56dcd8d6d74a",
   "metadata": {},
   "outputs": [],
   "source": [
    "#Task3"
   ]
  },
  {
   "cell_type": "code",
   "execution_count": 23,
   "id": "8045f903-ce46-486c-ab39-cc233e1678dd",
   "metadata": {},
   "outputs": [],
   "source": [
    "matches = pd.read_csv(\"matches.csv\")\n",
    "deliveries = pd.read_csv(\"deliveries.csv\")"
   ]
  },
  {
   "cell_type": "code",
   "execution_count": 24,
   "id": "1cb8712e-001c-4d2b-802a-94043c5745cd",
   "metadata": {},
   "outputs": [
    {
     "name": "stdout",
     "output_type": "stream",
     "text": [
      "Most successful team: Mumbai Indians with 144 wins\n",
      "\n"
     ]
    }
   ],
   "source": [
    "most_successful_team = matches['winner'].value_counts().idxmax()\n",
    "wins = matches['winner'].value_counts().max()\n",
    "print(f\"Most successful team: {most_successful_team} with {wins} wins\\n\")"
   ]
  },
  {
   "cell_type": "code",
   "execution_count": 25,
   "id": "556d968a-4da3-4adf-b1be-8482e644fde8",
   "metadata": {},
   "outputs": [
    {
     "name": "stdout",
     "output_type": "stream",
     "text": [
      "Total matches played per season:\n",
      " season\n",
      "2007/08    58\n",
      "2009       57\n",
      "2009/10    60\n",
      "2011       73\n",
      "2012       74\n",
      "2013       76\n",
      "2014       60\n",
      "2015       59\n",
      "2016       60\n",
      "2017       59\n",
      "2018       60\n",
      "2019       60\n",
      "2020/21    60\n",
      "2021       60\n",
      "2022       74\n",
      "2023       74\n",
      "2024       71\n",
      "Name: count, dtype: int64 \n",
      "\n"
     ]
    }
   ],
   "source": [
    "season_counts = matches['season'].value_counts().sort_index()\n",
    "print(\"Total matches played per season:\\n\", season_counts, \"\\n\")"
   ]
  },
  {
   "cell_type": "code",
   "execution_count": 26,
   "id": "85b5a51b-4750-4484-9726-aee39c4e2947",
   "metadata": {},
   "outputs": [
    {
     "name": "stdout",
     "output_type": "stream",
     "text": [
      "Top 5 Player of the Match award winners:\n",
      " player_of_match\n",
      "AB de Villiers    25\n",
      "CH Gayle          22\n",
      "RG Sharma         19\n",
      "DA Warner         18\n",
      "V Kohli           18\n",
      "Name: count, dtype: int64 \n",
      "\n"
     ]
    }
   ],
   "source": [
    "top_players = matches['player_of_match'].value_counts().head(5)\n",
    "print(\"Top 5 Player of the Match award winners:\\n\", top_players, \"\\n\")"
   ]
  },
  {
   "cell_type": "code",
   "execution_count": 27,
   "id": "e8a51ac8-1702-46ff-a2d9-f05b9d38ec90",
   "metadata": {},
   "outputs": [
    {
     "name": "stdout",
     "output_type": "stream",
     "text": [
      "Merged Data Sample:\n",
      "    match_id  inning           batting_team                 bowling_team  over  \\\n",
      "0    335982       1  Kolkata Knight Riders  Royal Challengers Bangalore     0   \n",
      "1    335982       1  Kolkata Knight Riders  Royal Challengers Bangalore     0   \n",
      "2    335982       1  Kolkata Knight Riders  Royal Challengers Bangalore     0   \n",
      "3    335982       1  Kolkata Knight Riders  Royal Challengers Bangalore     0   \n",
      "4    335982       1  Kolkata Knight Riders  Royal Challengers Bangalore     0   \n",
      "\n",
      "   ball       batter   bowler  non_striker  batsman_runs  ...  toss_decision  \\\n",
      "0     1   SC Ganguly  P Kumar  BB McCullum             0  ...          field   \n",
      "1     2  BB McCullum  P Kumar   SC Ganguly             0  ...          field   \n",
      "2     3  BB McCullum  P Kumar   SC Ganguly             0  ...          field   \n",
      "3     4  BB McCullum  P Kumar   SC Ganguly             0  ...          field   \n",
      "4     5  BB McCullum  P Kumar   SC Ganguly             0  ...          field   \n",
      "\n",
      "                  winner result  result_margin target_runs target_overs  \\\n",
      "0  Kolkata Knight Riders   runs          140.0       223.0         20.0   \n",
      "1  Kolkata Knight Riders   runs          140.0       223.0         20.0   \n",
      "2  Kolkata Knight Riders   runs          140.0       223.0         20.0   \n",
      "3  Kolkata Knight Riders   runs          140.0       223.0         20.0   \n",
      "4  Kolkata Knight Riders   runs          140.0       223.0         20.0   \n",
      "\n",
      "  super_over  method    umpire1      umpire2  \n",
      "0          N     NaN  Asad Rauf  RE Koertzen  \n",
      "1          N     NaN  Asad Rauf  RE Koertzen  \n",
      "2          N     NaN  Asad Rauf  RE Koertzen  \n",
      "3          N     NaN  Asad Rauf  RE Koertzen  \n",
      "4          N     NaN  Asad Rauf  RE Koertzen  \n",
      "\n",
      "[5 rows x 37 columns]\n"
     ]
    }
   ],
   "source": [
    "merged = pd.merge(deliveries, matches, left_on='match_id', right_on='id')\n",
    "print(\"Merged Data Sample:\\n\", merged.head())"
   ]
  },
  {
   "cell_type": "code",
   "execution_count": 31,
   "id": "fbf966dd-ced1-41d7-82f1-7577fee251d4",
   "metadata": {},
   "outputs": [],
   "source": [
    "\n",
    "import matplotlib.pyplot as plt"
   ]
  },
  {
   "cell_type": "code",
   "execution_count": null,
   "id": "9db61077-a9ce-4c52-99ce-f861ecbab930",
   "metadata": {},
   "outputs": [],
   "source": [
    "#Task4"
   ]
  },
  {
   "cell_type": "code",
   "execution_count": 32,
   "id": "f7b2894e-5c03-4a0a-89e0-9fda2be110fe",
   "metadata": {},
   "outputs": [],
   "source": [
    "df=pd.read_csv(\"StudentsPerformance.csv\")"
   ]
  },
  {
   "cell_type": "code",
   "execution_count": 33,
   "id": "08d898a5-fc69-40db-a500-c8838c78d22e",
   "metadata": {},
   "outputs": [
    {
     "name": "stdout",
     "output_type": "stream",
     "text": [
      "Average Scores:\n",
      " math score       66.089\n",
      "reading score    69.169\n",
      "writing score    68.054\n",
      "dtype: float64 \n",
      "\n"
     ]
    }
   ],
   "source": [
    "average_scores = df[['math score', 'reading score', 'writing score']].mean()\n",
    "print(\"Average Scores:\\n\", average_scores, \"\\n\")"
   ]
  },
  {
   "cell_type": "code",
   "execution_count": 34,
   "id": "d0e1ef34-2c7a-4f34-9a8c-c2bd0237a620",
   "metadata": {},
   "outputs": [
    {
     "name": "stdout",
     "output_type": "stream",
     "text": [
      "Average Writing Score by Gender:\n",
      " gender\n",
      "female    72.467181\n",
      "male      63.311203\n",
      "Name: writing score, dtype: float64 \n",
      "\n",
      "Females performed better in writing with an average score of 72.47\n",
      "\n"
     ]
    }
   ],
   "source": [
    "avg_writing_by_gender = df.groupby('gender')['writing score'].mean()\n",
    "print(\"Average Writing Score by Gender:\\n\", avg_writing_by_gender, \"\\n\")\n",
    "better_writer = avg_writing_by_gender.idxmax()\n",
    "print(f\"{better_writer.capitalize()}s performed better in writing with an average score of {avg_writing_by_gender.max():.2f}\\n\")"
   ]
  },
  {
   "cell_type": "code",
   "execution_count": 35,
   "id": "b4629f04-a5ac-4d87-89c3-4b4b30fa7512",
   "metadata": {},
   "outputs": [
    {
     "name": "stdout",
     "output_type": "stream",
     "text": [
      "   math score  reading score  writing score  total score  percentage\n",
      "0          72             72             74          218   72.666667\n",
      "1          69             90             88          247   82.333333\n",
      "2          90             95             93          278   92.666667\n",
      "3          47             57             44          148   49.333333\n",
      "4          76             78             75          229   76.333333 \n",
      "\n"
     ]
    }
   ],
   "source": [
    "df['total score'] = df[['math score', 'reading score', 'writing score']].sum(axis=1)\n",
    "df['percentage'] = df['total score'] / 300 * 100\n",
    "print(df[['math score', 'reading score', 'writing score', 'total score', 'percentage']].head(), \"\\n\")\n"
   ]
  },
  {
   "cell_type": "code",
   "execution_count": 36,
   "id": "3e31c24a-9dff-47c3-b9e8-5b1aa60c7dc6",
   "metadata": {},
   "outputs": [
    {
     "data": {
      "image/png": "[encoded data removed]",
      "text/plain": [
       "<Figure size 1000x600 with 1 Axes>"
      ]
     },
     "metadata": {},
     "output_type": "display_data"
    }
   ],
   "source": [
    "avg_scores = df.groupby('parental level of education')[['math score', 'reading score', 'writing score']].mean()\n",
    "avg_scores.plot(kind='bar', figsize=(10, 6))\n",
    "plt.title('Average Scores by Parental Level of Education')\n",
    "plt.ylabel('Average Score')\n",
    "plt.xticks(rotation=45)\n",
    "plt.tight_layout()\n",
    "plt.show()\n"
   ]
  },
  {
   "cell_type": "code",
   "execution_count": 37,
   "id": "0906306e-9ab7-46fc-8dc0-e309666c9431",
   "metadata": {},
   "outputs": [
    {
     "name": "stdout",
     "output_type": "stream",
     "text": [
      "Students scoring above 90%:\n",
      "      gender race/ethnicity parental level of education     lunch  \\\n",
      "2    female        group B             master's degree  standard   \n",
      "6    female        group B                some college  standard   \n",
      "104    male        group C                some college  standard   \n",
      "106  female        group D             master's degree  standard   \n",
      "114  female        group E           bachelor's degree  standard   \n",
      "\n",
      "    test preparation course  math score  reading score  writing score  \\\n",
      "2                      none          90             95             93   \n",
      "6                 completed          88             95             92   \n",
      "104               completed          98             86             90   \n",
      "106                    none          87            100            100   \n",
      "114               completed          99            100            100   \n",
      "\n",
      "     total score  percentage  \n",
      "2            278   92.666667  \n",
      "6            275   91.666667  \n",
      "104          274   91.333333  \n",
      "106          287   95.666667  \n",
      "114          299   99.666667  \n"
     ]
    }
   ],
   "source": [
    "top_students = df[df['percentage'] > 90]\n",
    "print(\"Students scoring above 90%:\\n\", top_students.head())"
   ]
  },
  {
   "cell_type": "code",
   "execution_count": 40,
   "id": "63825b73-25d5-45b3-8fd3-c341745e8e18",
   "metadata": {},
   "outputs": [
    {
     "name": "stdout",
     "output_type": "stream",
     "text": [
      "\n",
      "=== Statistical Summary ===\n",
      "           Unnamed: 0  airline  flight source_city departure_time   stops  \\\n",
      "count   300153.000000   300153  300153      300153         300153  300153   \n",
      "unique            NaN        6    1561           6              6       3   \n",
      "top               NaN  Vistara  UK-706       Delhi        Morning     one   \n",
      "freq              NaN   127859    3235       61343          71146  250863   \n",
      "mean    150076.000000      NaN     NaN         NaN            NaN     NaN   \n",
      "std      86646.852011      NaN     NaN         NaN            NaN     NaN   \n",
      "min          0.000000      NaN     NaN         NaN            NaN     NaN   \n",
      "25%      75038.000000      NaN     NaN         NaN            NaN     NaN   \n",
      "50%     150076.000000      NaN     NaN         NaN            NaN     NaN   \n",
      "75%     225114.000000      NaN     NaN         NaN            NaN     NaN   \n",
      "max     300152.000000      NaN     NaN         NaN            NaN     NaN   \n",
      "\n",
      "       arrival_time destination_city    class       duration      days_left  \\\n",
      "count        300153           300153   300153  300153.000000  300153.000000   \n",
      "unique            6                6        2            NaN            NaN   \n",
      "top           Night           Mumbai  Economy            NaN            NaN   \n",
      "freq          91538            59097   206666            NaN            NaN   \n",
      "mean            NaN              NaN      NaN      12.221021      26.004751   \n",
      "std             NaN              NaN      NaN       7.191997      13.561004   \n",
      "min             NaN              NaN      NaN       0.830000       1.000000   \n",
      "25%             NaN              NaN      NaN       6.830000      15.000000   \n",
      "50%             NaN              NaN      NaN      11.250000      26.000000   \n",
      "75%             NaN              NaN      NaN      16.170000      38.000000   \n",
      "max             NaN              NaN      NaN      49.830000      49.000000   \n",
      "\n",
      "                price  \n",
      "count   300153.000000  \n",
      "unique            NaN  \n",
      "top               NaN  \n",
      "freq              NaN  \n",
      "mean     20889.660523  \n",
      "std      22697.767366  \n",
      "min       1105.000000  \n",
      "25%       4783.000000  \n",
      "50%       7425.000000  \n",
      "75%      42521.000000  \n",
      "max     123071.000000  \n"
     ]
    }
   ],
   "source": [
    "print(\"\\n=== Statistical Summary ===\")\n",
    "print(df.describe(include='all'))"
   ]
  },
  {
   "cell_type": "code",
   "execution_count": null,
   "id": "7973a72d-eca9-4bd3-97e1-39c57d68947f",
   "metadata": {},
   "outputs": [],
   "source": [
    "#TAsk5"
   ]
  },
  {
   "cell_type": "code",
   "execution_count": 60,
   "id": "d743e416-5935-4a97-8792-8c0d82dd1f93",
   "metadata": {},
   "outputs": [],
   "source": [
    "df = pd.read_csv(\"Clean_Dataset.csv\")\n",
    "\n"
   ]
  },
  {
   "cell_type": "code",
   "execution_count": 61,
   "id": "f1cdd79d-57e0-4c91-a227-3023fd407313",
   "metadata": {},
   "outputs": [
    {
     "name": "stdout",
     "output_type": "stream",
     "text": [
      "=== .info() ===\n",
      "<class 'pandas.core.frame.DataFrame'>\n",
      "RangeIndex: 300153 entries, 0 to 300152\n",
      "Data columns (total 12 columns):\n",
      " #   Column            Non-Null Count   Dtype  \n",
      "---  ------            --------------   -----  \n",
      " 0   Unnamed: 0        300153 non-null  int64  \n",
      " 1   airline           300153 non-null  object \n",
      " 2   flight            300153 non-null  object \n",
      " 3   source_city       300153 non-null  object \n",
      " 4   departure_time    300153 non-null  object \n",
      " 5   stops             300153 non-null  object \n",
      " 6   arrival_time      300153 non-null  object \n",
      " 7   destination_city  300153 non-null  object \n",
      " 8   class             300153 non-null  object \n",
      " 9   duration          300153 non-null  float64\n",
      " 10  days_left         300153 non-null  int64  \n",
      " 11  price             300153 non-null  int64  \n",
      "dtypes: float64(1), int64(3), object(8)\n",
      "memory usage: 27.5+ MB\n",
      "None\n",
      "\n",
      "=== .describe() ===\n",
      "           Unnamed: 0  airline  flight source_city departure_time   stops  \\\n",
      "count   300153.000000   300153  300153      300153         300153  300153   \n",
      "unique            NaN        6    1561           6              6       3   \n",
      "top               NaN  Vistara  UK-706       Delhi        Morning     one   \n",
      "freq              NaN   127859    3235       61343          71146  250863   \n",
      "mean    150076.000000      NaN     NaN         NaN            NaN     NaN   \n",
      "std      86646.852011      NaN     NaN         NaN            NaN     NaN   \n",
      "min          0.000000      NaN     NaN         NaN            NaN     NaN   \n",
      "25%      75038.000000      NaN     NaN         NaN            NaN     NaN   \n",
      "50%     150076.000000      NaN     NaN         NaN            NaN     NaN   \n",
      "75%     225114.000000      NaN     NaN         NaN            NaN     NaN   \n",
      "max     300152.000000      NaN     NaN         NaN            NaN     NaN   \n",
      "\n",
      "       arrival_time destination_city    class       duration      days_left  \\\n",
      "count        300153           300153   300153  300153.000000  300153.000000   \n",
      "unique            6                6        2            NaN            NaN   \n",
      "top           Night           Mumbai  Economy            NaN            NaN   \n",
      "freq          91538            59097   206666            NaN            NaN   \n",
      "mean            NaN              NaN      NaN      12.221021      26.004751   \n",
      "std             NaN              NaN      NaN       7.191997      13.561004   \n",
      "min             NaN              NaN      NaN       0.830000       1.000000   \n",
      "25%             NaN              NaN      NaN       6.830000      15.000000   \n",
      "50%             NaN              NaN      NaN      11.250000      26.000000   \n",
      "75%             NaN              NaN      NaN      16.170000      38.000000   \n",
      "max             NaN              NaN      NaN      49.830000      49.000000   \n",
      "\n",
      "                price  \n",
      "count   300153.000000  \n",
      "unique            NaN  \n",
      "top               NaN  \n",
      "freq              NaN  \n",
      "mean     20889.660523  \n",
      "std      22697.767366  \n",
      "min       1105.000000  \n",
      "25%       4783.000000  \n",
      "50%       7425.000000  \n",
      "75%      42521.000000  \n",
      "max     123071.000000  \n"
     ]
    }
   ],
   "source": [
    "print(\"=== .info() ===\")\n",
    "print(df.info())\n",
    "print(\"\\n=== .describe() ===\")\n",
    "print(df.describe(include='all'))"
   ]
  },
  {
   "cell_type": "code",
   "execution_count": 66,
   "id": "d81a81a3-3e2e-4cfd-9849-ad94330150cc",
   "metadata": {},
   "outputs": [
    {
     "name": "stdout",
     "output_type": "stream",
     "text": [
      "  departure_time departure_datetime   arrival_time arrival_datetime\n",
      "0        Evening           18:00:00          Night         21:00:00\n",
      "1  Early_Morning           05:00:00        Morning         08:00:00\n",
      "2  Early_Morning           05:00:00  Early_Morning         05:00:00\n",
      "3        Morning           08:00:00      Afternoon         13:00:00\n",
      "4        Morning           08:00:00        Morning         08:00:00\n"
     ]
    }
   ],
   "source": [
    "time_map = {\n",
    "    'Early_Morning': '05:00',\n",
    "    'Morning': '08:00',\n",
    "    'Afternoon': '13:00',\n",
    "    'Evening': '18:00',\n",
    "    'Night': '21:00',\n",
    "    'Late_Night': '23:30'\n",
    "}\n",
    "if 'departure_time' in df.columns:\n",
    "    df['departure_datetime'] = df['departure_time'].map(time_map)\n",
    "    df['departure_datetime'] = pd.to_datetime(df['departure_datetime'], format='%H:%M', errors='coerce').dt.time\n",
    "if 'arrival_time' in df.columns:\n",
    "    df['arrival_datetime'] = df['arrival_time'].map(time_map)\n",
    "    df['arrival_datetime'] = pd.to_datetime(df['arrival_datetime'], format='%H:%M', errors='coerce').dt.time\n",
    "print(df[['departure_time', 'departure_datetime', 'arrival_time', 'arrival_datetime']].head())"
   ]
  },
  {
   "cell_type": "code",
   "execution_count": 67,
   "id": "6c772a42-45fd-4287-9c30-d4cf2c8d63b8",
   "metadata": {},
   "outputs": [
    {
     "name": "stdout",
     "output_type": "stream",
     "text": [
      "   days_left Date_of_Journey  Journey_Day  Journey_Month\n",
      "0          1      2025-01-02            2              1\n",
      "1          1      2025-01-02            2              1\n",
      "2          1      2025-01-02            2              1\n",
      "3          1      2025-01-02            2              1\n",
      "4          1      2025-01-02            2              1\n"
     ]
    }
   ],
   "source": [
    "today = pd.to_datetime(\"2025-01-01\")\n",
    "df['Date_of_Journey'] = today + pd.to_timedelta(df['days_left'], unit='D')\n",
    "df['Journey_Day'] = df['Date_of_Journey'].dt.day\n",
    "df['Journey_Month'] = df['Date_of_Journey'].dt.month\n",
    "print(df[['days_left', 'Date_of_Journey', 'Journey_Day', 'Journey_Month']].head())"
   ]
  },
  {
   "cell_type": "code",
   "execution_count": 68,
   "id": "c7c2066e-daea-4c86-bffc-b03e8229c693",
   "metadata": {},
   "outputs": [
    {
     "name": "stdout",
     "output_type": "stream",
     "text": [
      "Most Frequent Airline: Vistara\n",
      "Most Frequent Source City: Delhi\n"
     ]
    }
   ],
   "source": [
    "if 'airline' in df.columns:\n",
    "    most_common_airline = df['airline'].mode()[0]\n",
    "    print(\"Most Frequent Airline:\", most_common_airline)\n",
    "\n",
    "\n",
    "if 'source_city' in df.columns:\n",
    "    most_common_source = df['source_city'].mode()[0]\n",
    "    print(\"Most Frequent Source City:\", most_common_source)"
   ]
  },
  {
   "cell_type": "code",
   "execution_count": 69,
   "id": "3765372c-e830-4b18-94e8-225a4b9bb272",
   "metadata": {},
   "outputs": [
    {
     "name": "stdout",
     "output_type": "stream",
     "text": [
      "Shape after cleaning: (300153, 17)\n",
      "\n",
      "Sample cleaned data:\n",
      "   Unnamed: 0   airline   flight source_city departure_time stops  \\\n",
      "0           0  SpiceJet  SG-8709       Delhi        Evening  zero   \n",
      "1           1  SpiceJet  SG-8157       Delhi  Early_Morning  zero   \n",
      "2           2   AirAsia   I5-764       Delhi  Early_Morning  zero   \n",
      "3           3   Vistara   UK-995       Delhi        Morning  zero   \n",
      "4           4   Vistara   UK-963       Delhi        Morning  zero   \n",
      "\n",
      "    arrival_time destination_city    class  duration  days_left  price  \\\n",
      "0          Night           Mumbai  Economy      2.17          1   5953   \n",
      "1        Morning           Mumbai  Economy      2.33          1   5953   \n",
      "2  Early_Morning           Mumbai  Economy      2.17          1   5956   \n",
      "3      Afternoon           Mumbai  Economy      2.25          1   5955   \n",
      "4        Morning           Mumbai  Economy      2.33          1   5955   \n",
      "\n",
      "  departure_datetime arrival_datetime Date_of_Journey  Journey_Day  \\\n",
      "0           18:00:00         21:00:00      2025-01-02            2   \n",
      "1           05:00:00         08:00:00      2025-01-02            2   \n",
      "2           05:00:00         05:00:00      2025-01-02            2   \n",
      "3           08:00:00         13:00:00      2025-01-02            2   \n",
      "4           08:00:00         08:00:00      2025-01-02            2   \n",
      "\n",
      "   Journey_Month  \n",
      "0              1  \n",
      "1              1  \n",
      "2              1  \n",
      "3              1  \n",
      "4              1  \n"
     ]
    }
   ],
   "source": [
    "df = df.drop_duplicates()\n",
    "\n",
    "\n",
    "df = df.dropna()\n",
    "\n",
    "\n",
    "print(\"Shape after cleaning:\", df.shape)\n",
    "print(\"\\nSample cleaned data:\")\n",
    "print(df.head())\n"
   ]
  },
  {
   "cell_type": "code",
   "execution_count": null,
   "id": "4130b1f3-0c84-423b-bea0-0a0bf217da13",
   "metadata": {},
   "outputs": [],
   "source": []
  }
 ],
 "metadata": {
  "kernelspec": {
   "display_name": "Python [conda env:base] *",
   "language": "python",
   "name": "conda-base-py"
  },
  "language_info": {
   "codemirror_mode": {
    "name": "ipython",
    "version": 3
   },
   "file_extension": ".py",
   "mimetype": "text/x-python",
   "name": "python",
   "nbconvert_exporter": "python",
   "pygments_lexer": "ipython3",
   "version": "3.12.7"
  }
 },
 "nbformat": 4,
 "nbformat_minor": 5
}
